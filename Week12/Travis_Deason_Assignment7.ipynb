{
 "cells": [
  {
   "cell_type": "markdown",
   "metadata": {},
   "source": [
    "# Homework 7"
   ]
  },
  {
   "cell_type": "code",
   "execution_count": 204,
   "metadata": {
    "collapsed": true
   },
   "outputs": [],
   "source": [
    "import re\n",
    "import nltk\n",
    "from nltk.tag import UnigramTagger\n",
    "from nltk.corpus import words, stopwords\n",
    "from nltk.corpus import brown, movie_reviews, treebank\n",
    "from nltk import word_tokenize, sent_tokenize, pos_tag\n",
    "from nltk.stem.porter import PorterStemmer\n",
    "from collections import Counter\n",
    "import requests\n",
    "import os\n",
    "import pandas as pd\n",
    "import numpy as np\n",
    "\n",
    "import matplotlib.pyplot as plt\n",
    "\n",
    "from sklearn.decomposition import PCA\n",
    "from sklearn.cluster import KMeans, AgglomerativeClustering, DBSCAN\n",
    "from sklearn.feature_extraction.text import TfidfVectorizer, CountVectorizer\n",
    "\n",
    "% matplotlib inline"
   ]
  },
  {
   "cell_type": "markdown",
   "metadata": {},
   "source": [
    "### Cluster the reviews that you collected in homework 5, by doing the following:"
   ]
  },
  {
   "cell_type": "code",
   "execution_count": 261,
   "metadata": {},
   "outputs": [],
   "source": [
    "### Since the website changed over time (which reviews were on top, I used caches data instead of re-scraping)\n",
    "## In the past assignment, these were chunked; so we will be using both noun parts and verb parts to see \n",
    "## which method gives better clustering\n",
    "\n",
    "mv_names = pd.Series(os.listdir('noun_parts'))\n",
    "\n",
    "noun_parts = [open('noun_parts/' + n).read().strip() for n in mv_names]\n",
    "\n",
    "verb_parts = [open('verb_parts/' + v).read().strip() for v in mv_names]"
   ]
  },
  {
   "cell_type": "code",
   "execution_count": 121,
   "metadata": {},
   "outputs": [
    {
     "data": {
      "text/plain": [
       "['“ Mom',\n",
       " ' we',\n",
       " ' Into the Spider-Verse',\n",
       " ' ’',\n",
       " ' my nine-year-old son',\n",
       " ' me',\n",
       " ' I',\n",
       " ' him',\n",
       " ' bed the other night',\n",
       " ' I']"
      ]
     },
     "execution_count": 121,
     "metadata": {},
     "output_type": "execute_result"
    }
   ],
   "source": [
    "noun_parts[31].split('\\n')[:10]"
   ]
  },
  {
   "cell_type": "code",
   "execution_count": 385,
   "metadata": {},
   "outputs": [],
   "source": [
    "### remove stopwords and stemming\n",
    "stem = PorterStemmer()\n",
    "swords = stopwords.words()\n",
    "\n",
    "n_stemmed = []\n",
    "v_stemmed = []\n",
    "\n",
    "for doc in verb_parts:\n",
    "    new_doc = []\n",
    "    for wordl in word_tokenize(doc):\n",
    "        word = wordl.lower()\n",
    "        if word in swords or re.search(\"^[^a-zA-Z]+$\", word):\n",
    "            continue\n",
    "        else:\n",
    "            word = stem.stem(word)\n",
    "            if re.search(\"^[a-zA-Z]+$\", word) and len(word) > 3:\n",
    "                new_doc.append(word.strip())\n",
    "    v_stemmed.append(' '.join(new_doc))\n",
    "    \n",
    "for doc in noun_parts:\n",
    "    new_doc = []\n",
    "    for wordl in word_tokenize(doc):\n",
    "        word = wordl.lower()\n",
    "        if word in swords:\n",
    "            continue\n",
    "        else:\n",
    "            word = stem.stem(word)\n",
    "            if re.search(\"^[a-zA-Z]+$\", word) and len(word) > 3:\n",
    "                new_doc.append(word.strip())\n",
    "    n_stemmed.append(' '.join(new_doc))"
   ]
  },
  {
   "cell_type": "code",
   "execution_count": 386,
   "metadata": {
    "collapsed": true
   },
   "outputs": [],
   "source": [
    "### Tokenize Each"
   ]
  },
  {
   "cell_type": "code",
   "execution_count": 388,
   "metadata": {},
   "outputs": [],
   "source": [
    "## Raw Counts\n",
    "count_model = CountVectorizer()\n",
    "verb_count_matrix = count_model.fit_transform(v_stemmed)\n",
    "\n",
    "noun_count_matrix = count_model.fit_transform(n_stemmed)"
   ]
  },
  {
   "cell_type": "code",
   "execution_count": 389,
   "metadata": {},
   "outputs": [
    {
     "data": {
      "text/plain": [
       "(159, 9189)"
      ]
     },
     "execution_count": 389,
     "metadata": {},
     "output_type": "execute_result"
    }
   ],
   "source": [
    "noun_count_matrix.shape"
   ]
  },
  {
   "cell_type": "code",
   "execution_count": 390,
   "metadata": {},
   "outputs": [
    {
     "data": {
      "text/plain": [
       "(159, 2926)"
      ]
     },
     "execution_count": 390,
     "metadata": {},
     "output_type": "execute_result"
    }
   ],
   "source": [
    "verb_count_matrix.shape"
   ]
  },
  {
   "cell_type": "code",
   "execution_count": 391,
   "metadata": {},
   "outputs": [],
   "source": [
    "## TFIDF\n",
    "tfidf_model = TfidfVectorizer(min_df=3, max_features=1200)\n",
    "verb_tfidf_model = tfidf_model.fit_transform(v_stemmed)\n",
    "\n",
    "noun_tfidf_model = tfidf_model.fit_transform(n_stemmed)"
   ]
  },
  {
   "cell_type": "code",
   "execution_count": 392,
   "metadata": {},
   "outputs": [
    {
     "data": {
      "text/plain": [
       "(159, 1200)"
      ]
     },
     "execution_count": 392,
     "metadata": {},
     "output_type": "execute_result"
    }
   ],
   "source": [
    "noun_tfidf_model.shape"
   ]
  },
  {
   "cell_type": "code",
   "execution_count": 393,
   "metadata": {},
   "outputs": [
    {
     "data": {
      "text/plain": [
       "(159, 817)"
      ]
     },
     "execution_count": 393,
     "metadata": {},
     "output_type": "execute_result"
    }
   ],
   "source": [
    "verb_tfidf_model.shape"
   ]
  },
  {
   "cell_type": "markdown",
   "metadata": {},
   "source": [
    "* The noun models generate a whole lot more vectors then the verb part models these may be difficult to cluster due to very high dimentionality Using TfIdf, even without using the Max_Features arguement significently decreases dimensionality"
   ]
  },
  {
   "cell_type": "markdown",
   "metadata": {},
   "source": [
    "### In Python, select any one of the clustering methods covered in this course. Run it over the collection of reviews, and show at least two different ways of clustering the reviews, e.g., changing k in k-Means clustering or changing where you “cut” in Agnes or Diana.  "
   ]
  },
  {
   "cell_type": "code",
   "execution_count": 394,
   "metadata": {
    "collapsed": true
   },
   "outputs": [],
   "source": [
    "### K-means\n",
    "\n",
    "num_classes = 5\n",
    "\n",
    "verb_kmeans = KMeans(n_clusters= num_classes)\n",
    "\n",
    "vc_predicts_km = verb_kmeans.fit_predict(verb_count_matrix)\n",
    "vidf_predicts_km = verb_kmeans.fit_predict(verb_tfidf_model)\n",
    "\n",
    "\"{:.2f}% of clusters agree\".format((vidf_predicts_km == vc_predicts_km).sum() / vc_predicts_km.shape[0] * 100)\n",
    "\n",
    "reduce_2d = PCA(n_components=2)\n",
    "\n",
    "vc_data_2d = reduce_2d.fit_transform(verb_count_matrix.todense())"
   ]
  },
  {
   "cell_type": "code",
   "execution_count": 395,
   "metadata": {},
   "outputs": [
    {
     "data": {
      "text/plain": [
       "<matplotlib.text.Text at 0x120579198>"
      ]
     },
     "execution_count": 395,
     "metadata": {},
     "output_type": "execute_result"
    },
    {
     "data": {
      "image/png": "[encoded data removed]",
      "text/plain": [
       "<matplotlib.figure.Figure at 0x12000cb38>"
      ]
     },
     "metadata": {},
     "output_type": "display_data"
    }
   ],
   "source": [
    "colors = ['red', 'green', 'blue', 'black', 'orange', 'cyan', 'pink', 'violet']\n",
    "\n",
    "\n",
    "fig, ax = plt.subplots(1,2, figsize=(16,8))\n",
    "for cls, col in enumerate(colors[:num_classes]):\n",
    "    cls_cnt = vc_data_2d[vc_predicts_km == cls]\n",
    "    cls_idf = vc_data_2d[vidf_predicts_km == cls]\n",
    "    ax[0].scatter(cls_cnt[:,0], cls_cnt[:,1], color=col)\n",
    "    ax[1].scatter(cls_idf[:,0], cls_idf[:,1], color=col)\n",
    "ax[0].set_title(\"Word Count Clusters\")\n",
    "ax[1].set_title(\"TfIdf Vector Clusters\")"
   ]
  },
  {
   "cell_type": "code",
   "execution_count": 396,
   "metadata": {},
   "outputs": [
    {
     "name": "stdout",
     "output_type": "stream",
     "text": [
      "class no: 0\n",
      "\t Word Counts observations: 2\n",
      "\t TfIdF observations: 15\n",
      "class no: 1\n",
      "\t Word Counts observations: 18\n",
      "\t TfIdF observations: 20\n",
      "class no: 2\n",
      "\t Word Counts observations: 48\n",
      "\t TfIdF observations: 20\n",
      "class no: 3\n",
      "\t Word Counts observations: 83\n",
      "\t TfIdF observations: 76\n",
      "class no: 4\n",
      "\t Word Counts observations: 8\n",
      "\t TfIdF observations: 28\n"
     ]
    }
   ],
   "source": [
    "for i in range(num_classes):\n",
    "    print(\"class no:\", i)\n",
    "    print(\"\\t\", \"Word Counts observations:\", vc_predicts_km[vc_predicts_km == i].size)\n",
    "    print(\"\\t\", \"TfIdF observations:\", vidf_predicts_km[vidf_predicts_km == i].size)"
   ]
  },
  {
   "cell_type": "markdown",
   "metadata": {},
   "source": [
    "* From the 2 dimensional representation of the data, it would appear that the standard word count is doing a much better job of generating classes then the TFiDF.\n",
    "\n",
    "* The standard word count appears to have created a class which is virtually on it's own; while the TFiDF does not seem to have this same problem.  In fact, the TFiDF classes are much more balanced as a whole.  This could be an indication that the 2 dimensional plot we are observing is missleading"
   ]
  },
  {
   "cell_type": "code",
   "execution_count": 397,
   "metadata": {},
   "outputs": [
    {
     "data": {
      "text/plain": [
       "'19.50% of clusters agree'"
      ]
     },
     "execution_count": 397,
     "metadata": {},
     "output_type": "execute_result"
    }
   ],
   "source": [
    "## AgglomerativeClustering\n",
    "\n",
    "verb_agg = AgglomerativeClustering(n_clusters= num_classes)\n",
    "\n",
    "vc_predicts_agg = verb_agg.fit_predict(verb_count_matrix.todense())\n",
    "vidf_predicts_agg = verb_agg.fit_predict(verb_tfidf_model.todense())\n",
    "\n",
    "\"{:.2f}% of clusters agree\".format((vc_predicts_agg == vidf_predicts_agg).sum() / vc_predicts_agg.shape[0] * 100)"
   ]
  },
  {
   "cell_type": "code",
   "execution_count": 398,
   "metadata": {},
   "outputs": [
    {
     "data": {
      "text/plain": [
       "<matplotlib.text.Text at 0x120cef4e0>"
      ]
     },
     "execution_count": 398,
     "metadata": {},
     "output_type": "execute_result"
    },
    {
     "data": {
      "image/png": "[encoded data removed]",
      "text/plain": [
       "<matplotlib.figure.Figure at 0x11f9b3fd0>"
      ]
     },
     "metadata": {},
     "output_type": "display_data"
    }
   ],
   "source": [
    "fig, ax = plt.subplots(1,2, figsize=(16,8))\n",
    "for cls, col in enumerate(colors[:num_classes]):\n",
    "    cls_cnt = vc_data_2d[vc_predicts_agg == cls]\n",
    "    cls_idf = vc_data_2d[vidf_predicts_agg == cls]\n",
    "    ax[0].scatter(cls_cnt[:,0], cls_cnt[:,1], color=col)\n",
    "    ax[1].scatter(cls_idf[:,0], cls_idf[:,1], color=col)\n",
    "ax[0].set_title(\"Word Count Clusters\")\n",
    "ax[1].set_title(\"TfIdf Vector Clusters\")"
   ]
  },
  {
   "cell_type": "code",
   "execution_count": 399,
   "metadata": {},
   "outputs": [
    {
     "name": "stdout",
     "output_type": "stream",
     "text": [
      "class no: 0\n",
      "\t word counts observations: 103\n",
      "\t TfIdf observations: 38\n",
      "class no: 1\n",
      "\t word counts observations: 25\n",
      "\t TfIdf observations: 35\n",
      "class no: 2\n",
      "\t word counts observations: 26\n",
      "\t TfIdf observations: 28\n",
      "class no: 3\n",
      "\t word counts observations: 2\n",
      "\t TfIdf observations: 28\n",
      "class no: 4\n",
      "\t word counts observations: 3\n",
      "\t TfIdf observations: 30\n"
     ]
    }
   ],
   "source": [
    "for i in range(num_classes):\n",
    "    print(\"class no:\", i)\n",
    "    print(\"\\t\", \"word counts observations:\", vc_predicts_agg[vc_predicts_agg == i].size)\n",
    "    print(\"\\t\", \"TfIdf observations:\", vidf_predicts_agg[vidf_predicts_agg == i].size)"
   ]
  },
  {
   "cell_type": "code",
   "execution_count": 400,
   "metadata": {},
   "outputs": [
    {
     "data": {
      "text/plain": [
       "'27.04% of clusters agree'"
      ]
     },
     "execution_count": 400,
     "metadata": {},
     "output_type": "execute_result"
    }
   ],
   "source": [
    "### K-means\n",
    "\n",
    "num_classes = 5\n",
    "\n",
    "kmeans = KMeans(n_clusters= num_classes)\n",
    "\n",
    "vidf_predicts_km = kmeans.fit_predict(verb_tfidf_model)\n",
    "nidf_predicts_km = kmeans.fit_predict(verb_tfidf_model)\n",
    "\n",
    "\"{:.2f}% of clusters agree\".format((vidf_predicts_km == nidf_predicts_km).sum() / nidf_predicts_km.shape[0] * 100)"
   ]
  },
  {
   "cell_type": "code",
   "execution_count": 401,
   "metadata": {},
   "outputs": [
    {
     "data": {
      "text/plain": [
       "<matplotlib.text.Text at 0x120dec320>"
      ]
     },
     "execution_count": 401,
     "metadata": {},
     "output_type": "execute_result"
    },
    {
     "data": {
      "image/png": "[encoded data removed]",
      "text/plain": [
       "<matplotlib.figure.Figure at 0x120d2f080>"
      ]
     },
     "metadata": {},
     "output_type": "display_data"
    }
   ],
   "source": [
    "colors = ['red', 'green', 'blue', 'black', 'orange', 'cyan', 'pink', 'violet']\n",
    "\n",
    "\n",
    "fig, ax = plt.subplots(1,2, figsize=(16,8))\n",
    "for cls, col in enumerate(colors[:num_classes]):\n",
    "    cls_cnt = vc_data_2d[vidf_predicts_km == cls]\n",
    "    cls_idf = vc_data_2d[nidf_predicts_km == cls]\n",
    "    ax[0].scatter(cls_cnt[:,0], cls_cnt[:,1], color=col)\n",
    "    ax[1].scatter(cls_idf[:,0], cls_idf[:,1], color=col)\n",
    "ax[0].set_title(\"Noun TfIdf Clusters\")\n",
    "ax[1].set_title(\"Verb TfIdf Clusters\")"
   ]
  },
  {
   "cell_type": "code",
   "execution_count": 402,
   "metadata": {},
   "outputs": [
    {
     "name": "stdout",
     "output_type": "stream",
     "text": [
      "class no: 0\n",
      "\t Verb TfIdf observations: 19\n",
      "\t Noun TfIdf observations: 18\n",
      "class no: 1\n",
      "\t Verb TfIdf observations: 56\n",
      "\t Noun TfIdf observations: 70\n",
      "class no: 2\n",
      "\t Verb TfIdf observations: 31\n",
      "\t Noun TfIdf observations: 17\n",
      "class no: 3\n",
      "\t Verb TfIdf observations: 26\n",
      "\t Noun TfIdf observations: 26\n",
      "class no: 4\n",
      "\t Verb TfIdf observations: 27\n",
      "\t Noun TfIdf observations: 28\n"
     ]
    }
   ],
   "source": [
    "for i in range(num_classes):\n",
    "    print(\"class no:\", i)\n",
    "    print(\"\\t\", \"Verb TfIdf observations:\", vc_predicts_agg[vidf_predicts_km == i].size)\n",
    "    print(\"\\t\", \"Noun TfIdf observations:\", vidf_predicts_agg[nidf_predicts_km == i].size)"
   ]
  },
  {
   "cell_type": "markdown",
   "metadata": {},
   "source": [
    "Overall, the word count vectorizer did not generate balanced classes.  In both cases, (K-means and Agnes) the word count model puts most of the observations in the same class.  this looks better on a plot, but having every observation in a single class is not useful for clustering unless the goal is to identify anomolies.\n",
    "\n",
    "Overall, the most balanced class appears to be the k-means on tfidf vectorizers; As was expected, this does not improve when using noun parts instead of verb parts"
   ]
  },
  {
   "cell_type": "markdown",
   "metadata": {},
   "source": [
    "### Try to write a short phrase to characterize (give a natural interpretation of) what each cluster is generally centered on semantically. Is this hard to do in some cases? If so, make note of that fact. "
   ]
  },
  {
   "cell_type": "code",
   "execution_count": 453,
   "metadata": {},
   "outputs": [],
   "source": [
    "classes = {}\n",
    "all_classes = Counter()\n",
    "for n in range(num_classes):\n",
    "    classes[n] = Counter()\n",
    "    for book in mv_names[vidf_predicts_agg == n].values:\n",
    "        for word in n_stemmed[mv_names[mv_names == book].index[0]].split():\n",
    "            classes[n][word] += 1\n",
    "            all_classes[word] += 1\n",
    "    classes[n] = pd.Series(classes[n])\n",
    "all_classes = pd.Series(all_classes)"
   ]
  },
  {
   "cell_type": "code",
   "execution_count": 454,
   "metadata": {},
   "outputs": [],
   "source": [
    "topn = set(all_classes.sort_values(ascending=False).head(30).index)"
   ]
  },
  {
   "cell_type": "code",
   "execution_count": 455,
   "metadata": {},
   "outputs": [],
   "source": [
    "trunc_classes = {}\n",
    "\n",
    "for num, counts in classes.items():\n",
    "    trunc_classes[num] = counts[~pd.Series(counts.index).isin(top20).values]"
   ]
  },
  {
   "cell_type": "code",
   "execution_count": 456,
   "metadata": {},
   "outputs": [
    {
     "name": "stdout",
     "output_type": "stream",
     "text": [
      "0\n",
      "\t wild : 41\n",
      "\t work : 36\n",
      "\t moment : 35\n",
      "\t perform : 31\n",
      "\t audienc : 29\n",
      "\t girl : 29\n",
      "\t star : 28\n",
      "\t everi : 28\n",
      "\t bread : 27\n",
      "\t love : 27\n",
      "\t great : 27\n",
      "\t grey : 27\n",
      "\t littl : 27\n",
      "\t factori : 27\n",
      "\t school : 27\n",
      "\t =====\n",
      "\t blindspotting-2018__4.0\n",
      "\t damsel-2018__3.0\n",
      "\t overboard-2018__1.5\n",
      "\t flower-2018__0.5\n",
      "\t how-to-talk-to-girls-at-parties-2018__2.5\n",
      "1\n",
      "\t love : 30\n",
      "\t school : 29\n",
      "\t human : 28\n",
      "\t feel : 23\n",
      "\t real : 23\n",
      "\t whose : 22\n",
      "\t mani : 22\n",
      "\t famili : 21\n",
      "\t jeff : 21\n",
      "\t person : 20\n",
      "\t group : 20\n",
      "\t point : 20\n",
      "\t adam : 20\n",
      "\t work : 19\n",
      "\t steve : 19\n",
      "\t =====\n",
      "\t the-breaker-uppers-2019__3.0\n",
      "\t set-it-up-2018__3.0\n",
      "\t ant-man-and-the-wasp-2018__3.0\n",
      "\t dog-days-2018__3.0\n",
      "\t the-happytime-murders-2018__2.0\n",
      "2\n",
      "\t music : 30\n",
      "\t rachel : 24\n",
      "\t school : 23\n",
      "\t paul : 23\n",
      "\t mani : 21\n",
      "\t joke : 21\n",
      "\t feel : 21\n",
      "\t show : 21\n",
      "\t simon : 21\n",
      "\t richard : 20\n",
      "\t jami : 19\n",
      "\t funni : 18\n",
      "\t actor : 18\n",
      "\t love : 18\n",
      "\t christoph : 18\n",
      "\t =====\n",
      "\t private-life-2018__4.0\n",
      "\t never-goin-back-2018__3.0\n",
      "\t isnt-it-romantic-2019__2.5\n",
      "\t show-dogs-2018__0.5\n",
      "\t christopher-robin-2018__2.0\n",
      "3\n",
      "\t someth : 30\n",
      "\t moment : 28\n",
      "\t perform : 26\n",
      "\t point : 25\n",
      "\t stallworth : 25\n",
      "\t white : 24\n",
      "\t night : 23\n",
      "\t work : 22\n",
      "\t feel : 22\n",
      "\t famili : 21\n",
      "\t person : 21\n",
      "\t idea : 20\n",
      "\t gloria : 20\n",
      "\t action : 20\n",
      "\t home : 19\n",
      "\t =====\n",
      "\t gloria-bell-2019__3.0\n",
      "\t destination-wedding-2018__3.0\n",
      "\t white-rabbit-2018__3.0\n",
      "\t second-act-2018__2.0\n",
      "\t i-feel-pretty-2018__2.5\n",
      "4\n",
      "\t great : 29\n",
      "\t nina : 27\n",
      "\t someth : 22\n",
      "\t woman : 22\n",
      "\t well : 22\n",
      "\t anoth : 21\n",
      "\t john : 20\n",
      "\t director : 20\n",
      "\t ghost : 20\n",
      "\t person : 19\n",
      "\t differ : 19\n",
      "\t feel : 18\n",
      "\t everi : 18\n",
      "\t famili : 18\n",
      "\t anderson : 16\n",
      "\t =====\n",
      "\t the-wedding-guest-2019__3.0\n",
      "\t the-great-buddha-2018__2.0\n",
      "\t tyrel-2018__1.5\n",
      "\t fighting-with-my-family-2019__3.0\n",
      "\t oh-lucy-2018__2.5\n"
     ]
    }
   ],
   "source": [
    "for k, v in trunc_classes.items():\n",
    "    print(k)\n",
    "    for word, count in v.sort_values(ascending=False).head(15).items():\n",
    "        print('\\t', word, \":\", count)\n",
    "    print('\\t', '=====')\n",
    "    for book in mv_names[vidf_predicts_agg == k].sample(5):\n",
    "        print(\"\\t\", book)"
   ]
  },
  {
   "cell_type": "markdown",
   "metadata": {},
   "source": [
    "* The First cluster (cluster 0) seems to have a family link.  A lot of the most common words are first names or common names, and the word family is on the top 15 word vectors.  The apperance of the word game also seems significent here\n",
    "\n",
    "* The Second cluster (cluster 1) appears to deal with movies dealing with school or workplace issues.  Important wors here appear to be work, great, night, school and love.  The combination of the words love and feel high on this list may also be indicitive of another trend in these reviews\n",
    "\n",
    "* The Third cluster (cluster 2) features movies which significently feature female leads.  The term Work agian shows up here, but also the words woman and girl, are highly featured in the most common words in this set.\n",
    "\n",
    "* The Fourth cluster (cluster 3) A perciluar appearance on this set is the word christmas as the second most commonly appearing word.  romance, love and family are also highly features in this set.  This is a very difficult cluster to catagorize the common threads in because there do not appear to be many common themes in these words.\n",
    "\n",
    "* The Fifth cluster( cluster 4 ) heavily features the words wild and grey.  The words star, long and mile are also unique to this set.  These movies on average also appear to be more highly rated then the other sets; so this could be a set that primarily features more highly estemed actors"
   ]
  },
  {
   "cell_type": "markdown",
   "metadata": {},
   "source": [
    "### Explain which of the two clustering results from question 1 is preferable (if one of them is), and why. "
   ]
  },
  {
   "cell_type": "markdown",
   "metadata": {},
   "source": [
    "* For this test, K-means generated much more balanced sized clusters.  Using Agnes did not segment the data as much"
   ]
  },
  {
   "cell_type": "markdown",
   "metadata": {},
   "source": [
    "### Submit all of your inputs and outputs and your code for this assignment, along with a brief written explanation of your findings. "
   ]
  }
 ],
 "metadata": {
  "kernelspec": {
   "display_name": "Python 3",
   "language": "python",
   "name": "python3"
  },
  "language_info": {
   "codemirror_mode": {
    "name": "ipython",
    "version": 3
   },
   "file_extension": ".py",
   "mimetype": "text/x-python",
   "name": "python",
   "nbconvert_exporter": "python",
   "pygments_lexer": "ipython3",
   "version": "3.6.1"
  }
 },
 "nbformat": 4,
 "nbformat_minor": 2
}

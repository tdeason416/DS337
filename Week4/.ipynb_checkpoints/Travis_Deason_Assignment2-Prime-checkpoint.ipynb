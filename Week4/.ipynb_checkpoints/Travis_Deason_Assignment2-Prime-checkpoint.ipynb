{
 "cells": [
  {
   "cell_type": "markdown",
   "metadata": {},
   "source": [
    "## Homework 2 Prime"
   ]
  },
  {
   "cell_type": "code",
   "execution_count": 159,
   "metadata": {},
   "outputs": [],
   "source": [
    "from nltk.book import *\n",
    "from nltk.corpus import words\n",
    "import numpy as np\n",
    "import re\n",
    "import time\n",
    "import requests\n",
    "import os\n",
    "from bs4 import BeautifulSoup"
   ]
  },
  {
   "cell_type": "code",
   "execution_count": 141,
   "metadata": {
    "collapsed": true
   },
   "outputs": [],
   "source": [
    "all_words = words.words()"
   ]
  },
  {
   "cell_type": "code",
   "execution_count": 211,
   "metadata": {
    "collapsed": true
   },
   "outputs": [],
   "source": [
    "def lexical_diversity(text):\n",
    "    if text is str:\n",
    "        text = split_text(remove_meta(text))\n",
    "    return len(set(text)) / len(text)\n",
    "\n",
    "def vocab_count(text):\n",
    "    if text is str:\n",
    "        text = split_text(remove_meta(text))\n",
    "    return len(set(text))\n",
    "\n",
    "def split_text(text):\n",
    "    return re.split(\"[^a-z']+\")\n",
    "\n",
    "def remove_meta(text):\n",
    "    start_line = \"*** START OF THIS PROJECT GUTENBERG EBOOK [A-Z ]+***\"\n",
    "    end_line = \"*** END OF THIS PROJECT GUTENBERG EBOOK [A-Z]+***\"\n",
    "    return re.split(end_line, re.split(start_line, text)[1])[0]\n",
    "\n",
    "def vocab_score(text):\n",
    "    return vocab_count(text) / len(all_words)"
   ]
  },
  {
   "cell_type": "markdown",
   "metadata": {},
   "source": [
    "### 1.) In Python, create a method for scoring the vocabulary size of a text, and normalize the score from 0 to 1. It does not matter what method you use for normalization as long as you explain it in a short paragraph. (Various methods will be discussed in the live session.)"
   ]
  },
  {
   "cell_type": "code",
   "execution_count": 143,
   "metadata": {},
   "outputs": [],
   "source": [
    "max_words = max([\n",
    "    vocab_score(text1),\n",
    "    vocab_score(text2),\n",
    "    vocab_score(text3),\n",
    "    vocab_score(text4),\n",
    "    vocab_score(text5),\n",
    "    vocab_score(text6),\n",
    "    vocab_score(text7),\n",
    "    vocab_score(text8),\n",
    "    vocab_score(text9)\n",
    "    ])"
   ]
  },
  {
   "cell_type": "code",
   "execution_count": 144,
   "metadata": {},
   "outputs": [
    {
     "data": {
      "text/plain": [
       "0.08159722222222222"
      ]
     },
     "execution_count": 144,
     "metadata": {},
     "output_type": "execute_result"
    }
   ],
   "source": [
    "vocab_score(text1)"
   ]
  },
  {
   "cell_type": "code",
   "execution_count": 145,
   "metadata": {},
   "outputs": [
    {
     "data": {
      "text/plain": [
       "'Moby Dick by Herman Melville 1851'"
      ]
     },
     "execution_count": 145,
     "metadata": {},
     "output_type": "execute_result"
    }
   ],
   "source": [
    "text1.name"
   ]
  },
  {
   "cell_type": "markdown",
   "metadata": {},
   "source": [
    "* The method listed above takes all the texts from the nltk text database and uses the max word count in any of those documents as the value of 1.  This book had a total number of unique words of 19317.  This book was Moby Dick"
   ]
  },
  {
   "cell_type": "code",
   "execution_count": 146,
   "metadata": {},
   "outputs": [
    {
     "data": {
      "text/plain": [
       "236736"
      ]
     },
     "execution_count": 146,
     "metadata": {},
     "output_type": "execute_result"
    }
   ],
   "source": [
    "len(all_words)"
   ]
  },
  {
   "cell_type": "code",
   "execution_count": 147,
   "metadata": {},
   "outputs": [
    {
     "data": {
      "text/plain": [
       "0.08159722222222222"
      ]
     },
     "execution_count": 147,
     "metadata": {},
     "output_type": "execute_result"
    }
   ],
   "source": [
    "vocab_score(text1)"
   ]
  },
  {
   "cell_type": "markdown",
   "metadata": {},
   "source": [
    "* A more useful method would be to compare the number of total words in a document to the 236,376 words found in the nltk.corpus.words.words() object.  This is the method I will be using for the remaider of the Document, where a book which contains 236,376 unique words will have a vocabulary score of 1, and a book which contains only 5 unique words will have a value of 5 / 236,376"
   ]
  },
  {
   "cell_type": "markdown",
   "metadata": {},
   "source": [
    "### After consulting section 3.2 in chapter 1 of Bird-Klein, create a method for scoring the long-word vocabulary size of a text, and likewise normalize (and explain) the scoring as in step 1 above."
   ]
  },
  {
   "cell_type": "code",
   "execution_count": 148,
   "metadata": {
    "collapsed": true
   },
   "outputs": [],
   "source": [
    "def longword_count(text, min_length=15):\n",
    "    '''\n",
    "    Counts the number of unique long words in a body of text\n",
    "    --------\n",
    "    INPUTS\n",
    "    text: {str | list}\n",
    "        -   The Body of text to check for long words\n",
    "    min_length: int (default 15)\n",
    "        -   Minimum word length to be considered a 'long word'\n",
    "    --------\n",
    "    RETURNS\n",
    "    vocab_score: int\n",
    "        -   number of total words in text which are at least min_length\n",
    "    '''\n",
    "    if text is str:\n",
    "        text = split_text(text)\n",
    "    longwords = []\n",
    "    for word in text:\n",
    "        try:\n",
    "            word[min_length - 1]\n",
    "            longwords.append(word)\n",
    "        except IndexError:\n",
    "            continue\n",
    "    return vocab_count(longwords)\n",
    "\n",
    "def longword_score(text, min_length=15):\n",
    "    '''\n",
    "    Scores the number of unique long words in a body of text when\n",
    "    compared to the total number of words of equal lenght in nltk.corpus.words.words()\n",
    "    --------\n",
    "    INPUTS\n",
    "    text: {str | list}\n",
    "        -   The Body of text to check for long words\n",
    "    min_length: int (default 15)\n",
    "        -   Minimum word length to be considered a 'long word'\n",
    "    --------\n",
    "    RETURNS\n",
    "    longwords_score: float\n",
    "        -   count of total words > minwords / number of words > min_length in nltk.corpus.words.words()\n",
    "    '''\n",
    "    longwords_count = 0\n",
    "    for word in all_words:\n",
    "        try: \n",
    "            word[min_length - 1]\n",
    "            longwords_count += 1\n",
    "        except IndexError:\n",
    "            continue\n",
    "    return float(longword_count(text, min_length)) / longwords_count"
   ]
  },
  {
   "cell_type": "code",
   "execution_count": 149,
   "metadata": {},
   "outputs": [
    {
     "data": {
      "text/plain": [
       "94"
      ]
     },
     "execution_count": 149,
     "metadata": {},
     "output_type": "execute_result"
    }
   ],
   "source": [
    "longword_count(text5)"
   ]
  },
  {
   "cell_type": "code",
   "execution_count": 150,
   "metadata": {},
   "outputs": [
    {
     "data": {
      "text/plain": [
       "0.0073852922690132"
      ]
     },
     "execution_count": 150,
     "metadata": {},
     "output_type": "execute_result"
    }
   ],
   "source": [
    "longword_score(text5)"
   ]
  },
  {
   "cell_type": "markdown",
   "metadata": {},
   "source": [
    "* The function 'longword_count' checks all words in a corpus of text to see if the words are at least 15 characters.  If the word is at least 15 characters, it adds them to a list and counts the total number of uniuqe words.  The function longword_score performs the function in longword_count, but it also counts the total number of long words in nltk.corpus.words.words() and compares the number of long words in the text to that value (with the number of total long words in nltk.corpus being a value of 1."
   ]
  },
  {
   "cell_type": "markdown",
   "metadata": {},
   "source": [
    "### Now create a “text difficulty score” by combining the lexical diversity score from homework 1, and your normalized score of vocabulary size and long-word vocabulary size, in equal weighting. Explain what you see when this score is applied to same graded texts you used in homework 1."
   ]
  },
  {
   "cell_type": "code",
   "execution_count": 151,
   "metadata": {
    "collapsed": true
   },
   "outputs": [],
   "source": [
    "class GutenScraper:\n",
    "    def __init__(self, url='http://www.gutenberg.org/wiki/Children%27s_Instructional_Books_(Bookshelf)'):\n",
    "        self.urlbase = url\n",
    "        self.download_template = \"http://www.gutenberg.org/ebooks/{}.txt.utf-8\"\n",
    "        self.books_folder = \"local_pages\"\n",
    "        if self.books_folder not in os.listdir():\n",
    "            os.mkdir(self.books_folder)\n",
    "        self.books = {}\n",
    "        \n",
    "    def get_book_names(self):\n",
    "        if \"base_page\" not in os.listdir(self.books_folder):\n",
    "            main_page = str(requests.get(self.urlbase).content)\n",
    "        else:\n",
    "            main_page = open(self.books_folder + \"/base_page\")\n",
    "        page_soup = BeautifulSoup(main_page, 'html.parser')\n",
    "        for i in page_soup.find_all('a', attrs={\"class\": \"extiw\"}):\n",
    "            self.books[re.sub(\"[^a-z0-9]\", '', i.contents[0].lower())] = \\\n",
    "                self.download_template.format(i.attrs['title'].split(\":\")[1])\n",
    "                \n",
    "    def save_book(self, contents, bookname):\n",
    "        open(self.books_folder + \"/\" + bookname, \"w\").write(contents)\n",
    "    \n",
    "    def get_all_books(self, sleep_time=3):\n",
    "        for bookname, bookurl in self.books.items():\n",
    "            if bookname not in os.listdir(self.books_folder):\n",
    "                contents = str(requests.get(bookurl).content)\n",
    "                self.save_book(contents, bookname)\n",
    "                time.sleep(sleep_time)"
   ]
  },
  {
   "cell_type": "code",
   "execution_count": 202,
   "metadata": {
    "collapsed": true
   },
   "outputs": [],
   "source": [
    "Scraper = GutenScraper()\n",
    "Scraper.get_book_names()\n",
    "Scraper.get_all_books()"
   ]
  },
  {
   "cell_type": "code",
   "execution_count": 203,
   "metadata": {},
   "outputs": [
    {
     "data": {
      "text/plain": [
       "104"
      ]
     },
     "execution_count": 203,
     "metadata": {},
     "output_type": "execute_result"
    }
   ],
   "source": [
    "len(os.listdir('local_pages'))"
   ]
  },
  {
   "cell_type": "markdown",
   "metadata": {},
   "source": [
    "* There are 104 total books in the Guttenberg children's instructional books library"
   ]
  },
  {
   "cell_type": "code",
   "execution_count": 155,
   "metadata": {
    "collapsed": true
   },
   "outputs": [],
   "source": [
    "def total_score(text):\n",
    "    return (lexical_diversity(text) + vocab_score(text) + longword_score(text)) * 100"
   ]
  },
  {
   "cell_type": "code",
   "execution_count": 212,
   "metadata": {},
   "outputs": [
    {
     "name": "stdout",
     "output_type": "stream",
     "text": [
      "thestoryofmanhattan:  57.899383368193405\n",
      "anecdotesofthehabitsandinstinctofanimals:  35.005913760475806\n",
      "campingforboys:  92.8626342061561\n",
      "walterandthewireless:  55.00464652608814\n",
      "harrysladdertolearning:  59.096400439922334\n",
      "thestoryofwool:  71.432795543197\n",
      "woodlandtales:  69.23457093393225\n",
      "theontarioreadersthirdbook:  46.15891509139685\n",
      "boyblueandhisfriendsschooled:  53.57776474336693\n",
      "howtowriteclearlynrulesandexercisesonenglishcomposition:  34.55348036324314\n",
      "firstitalianreadings:  55.00464652608814\n",
      "thewondersofthejunglenbookone:  55.17917237650437\n",
      "littlebusybodiesnthelifeofcricketsantsbeesbeetlesandotherbusybodies:  25.380315323221687\n",
      "delasallefifthreader:  50.00422411462557\n",
      "theontarioreadersfourthbook:  51.857765612327654\n",
      "mcguffeysfirsteclecticreaderrevisededition:  40.48337147105395\n",
      "theontarioreadersthehighschoolreader1886:  40.00675858340092\n",
      "countrywalksofanaturalistwithhischildren:  42.507180994863475\n",
      "aprimaryreadernoldtimestoriesfairytalesandmythsretoldbychildren:  26.99130797899046\n",
      "abookofnaturalhistorynyoungfolkslibraryvolumexiv:  39.59135915112192\n",
      "alittlebookforalittlecook:  44.00464652608813\n",
      "base_page:  77.78073465801569\n",
      "theboymechanicvolume1n700thingsforboystodo:  52.39024543312865\n",
      "thelittlelameprincenrewrittenforyoungreadersbymargaretwaters:  33.34178156258448\n",
      "childrensclassicsindramaticformnbooktwo:  43.596924584607066\n",
      "ourcommoninsectsnapopularaccountoftheinsectsofourfieldsforestsgardensandhouses:  21.80205278973527\n",
      "quadrupedswhattheyareandwherefoundnabookofzoologyforboys:  35.722733943536866\n",
      "theliteraryworldseventhreader:  48.28177582944132\n",
      "newnationalfourthreader:  56.52723047944802\n",
      "wildflowersofthefarm:  65.00549134901324\n",
      "electricityforboys:  61.11575763719925\n",
      "parkerssecondreadernnationalseriesofselectionsforreadingdesignedfortheyoungerclassesinschoolsacademiesc:  18.454627759536166\n",
      "wildanimalsihaveknown:  61.91025325377515\n",
      "modernproseandpoetryforsecondaryschools:  38.467874633476825\n",
      "littlejourneytopuertoricoforintermediateanduppergrades:  33.34093673965937\n",
      "thebirdwomanofthelewisandclarkexpedition:  47.50802581778859\n",
      "mcguffeysfiftheclecticreader:  53.57776474336693\n",
      "thecuriousbookofbirds:  61.91025325377515\n",
      "amodernhistoryfromthetimeofluthertothefallofnapoleonnfortheuseofschoolsandcolleges:  21.958822918521157\n",
      "thestoryofglass:  73.33797985942147\n",
      "littlepresent:  61.541840830161995\n",
      "thestoryofthemind:  70.59330423166834\n",
      "bookaboutanimals:  68.75464652608814\n",
      "peepsatmanylandsnorway:  59.096400439922334\n",
      "ritchiesfabulaefacilesafirstlatinreader:  35.903349657911704\n",
      "mcguffeyssecondeclecticreader:  55.17917237650437\n",
      "mcguffeyssixtheclecticreader:  57.14961572625806\n",
      "indutch:  100.0029568802379\n",
      "mcguffeysthirdeclecticreader:  53.57776474336693\n",
      "contesethistoriettesxc3xa0lusagedesjeunesenfantsnquicommencentxc3xa0savoirlire:  28.214421257304465\n",
      "stanfordachievementtested1922nadvancedexaminationformaforgrades48:  32.316562948406016\n",
      "ontarioteachersmanualshouseholdscienceinruralschools:  26.92899068355273\n",
      "theburgessanimalbookforchildren:  58.07211953535829\n",
      "aschoolhistoryoftheunitedstates:  48.39343294613191\n",
      "theontariohighschoolreader:  50.00549134901324\n",
      "thehistoryofinsects:  57.899383368193405\n",
      "carlandthecottongin:  63.16296367439279\n",
      "thestoryofeclipses:  66.67173560421735\n",
      "gemsofpoetryforboysandgirls:  59.266017842660176\n",
      "birddayhowtoprepareforit:  54.172158015679905\n",
      "amongthefarmyardpeople:  63.64227739683944\n",
      "thebookofnaturemyths:  70.0059137604758\n",
      "youngfolkshistoryofrome:  65.22372747628619\n",
      "lexc3xa7onsdecosmographienxc3xa0lusagedeslycxc3xa9esetcollxc3xa8gesetdetouslesxc3xa9tablissementsdinstructionpublique:  21.3780816540853\n",
      "drscudderstalesforlittlereadersabouttheheathen:  32.61503182411227\n",
      "storiesfromlivy:  73.33797985942147\n",
      "newnationalfirstreader:  54.55052348300523\n",
      "storyhourreadersxe2x80x94bookthree:  52.948779876914266\n",
      "poemsteachersaskfornselectedbyreadersofnormalinstructorprimaryplans:  28.366234773012472\n",
      "theelsonreadersbook5:  65.00549134901324\n",
      "commercialgeographynabookforhighschoolscommercialcoursesandbusinesscolleges:  25.341359151121928\n",
      "animalheroes:  83.33755744795891\n",
      "ontarioteachersmanualshouseholdmanagement:  36.591702025596895\n",
      "denmark:  100.0029568802379\n",
      "ahistoryofthemcguffeyreaders:  53.57776474336693\n",
      "thestoryofporcelain:  73.69012428679159\n",
      "thestoryofyoungabrahamlincoln:  58.62787065003589\n",
      "sandersunionfourthreader:  50.00506893755069\n",
      "anelementaryspanishreader:  52.00549134901324\n",
      "theflagofmycountryshikxc3xa9yahbidahnaataxc3xadnnavajonewworldreaders2:  37.15383984088364\n",
      "wildernessways:  71.432795543197\n",
      "steveandthesteamengine:  50.00464652608814\n",
      "thebeaconsecondreader:  52.38559890704052\n",
      "childsbookofwaterbirds:  68.18815435375653\n",
      "thechildsworldthirdreader:  48.00506893755069\n",
      "chambersselementarysciencereadersbooki:  42.11202174129565\n",
      "thestoryofsugar:  73.33797985942147\n",
      "thelandofthelongnight:  52.38559890704052\n",
      "wherewelivenahomegeography:  53.85206760662965\n",
      "acatechismoffamiliarthingsntheirhistoryandtheeventswhichledtotheirdiscoverynwithashortexplanationofsomeoftheprincipalnaturalphenomenafortheuseofschoolsandfamiliesenlargedandrevisededition:  11.238817164777878\n",
      "gradedpoetryseventhyear:  56.52723047944802\n",
      "poemsteachersaskforbooktwo:  53.85206760662965\n",
      "storiesabouttheinstinctofanimalstheircharactersandhabits:  28.578187154829486\n",
      "chatterboxstoriesofnaturalhistory:  48.4916070682494\n",
      "orthographynasoutlinedinthestatecourseofstudyforillinois:  30.36432385200633\n",
      "mcguffeysfourtheclecticreader:  55.17917237650437\n",
      "amanualofpronunciationnforpracticaluseinschoolsandfamilies:  27.592965479952642\n",
      "thelouisaalcottreaderasupplementaryreaderforthefourthyearofschool:  26.161027148709632\n",
      "ahundredanecdotesofanimals:  57.698643864246044\n",
      "outlinesoflessonsinbotanypartifromseedtoleaf:  36.37039494703728\n",
      "onthetrailanoutdoorbookforgirls:  51.61966180920737\n",
      "theinsectfolk:  84.62003114147275\n",
      "afirstspanishreader:  57.899383368193405\n",
      "storiesaboutanimalswithpicturestomatch:  42.11202174129565\n"
     ]
    }
   ],
   "source": [
    "for book in os.listdir('local_pages'):\n",
    "    print(book + \": \", total_score(book))"
   ]
  },
  {
   "cell_type": "code",
   "execution_count": 213,
   "metadata": {
    "collapsed": true
   },
   "outputs": [],
   "source": [
    "def total_score_sqrt(text):\n",
    "    return (lexical_diversity(text) \\\n",
    "            + np.sqrt(vocab_score(text)) \\\n",
    "            + np.sqrt(longword_score(text))) * 100"
   ]
  },
  {
   "cell_type": "code",
   "execution_count": 214,
   "metadata": {},
   "outputs": [
    {
     "name": "stdout",
     "output_type": "stream",
     "text": [
      "thestoryofmanhattan:  58.5763911598\n",
      "anecdotesofthehabitsandinstinctofanimals:  35.7690097838\n",
      "campingforboys:  93.5981792269\n",
      "walterandthewireless:  55.6816543177\n",
      "harrysladdertolearning:  59.8319454607\n",
      "thestoryofwool:  72.0785033193\n",
      "woodlandtales:  69.8473487604\n",
      "theontarioreadersthirdbook:  46.8658108686\n",
      "boyblueandhisfriendsschooled:  54.3674293213\n",
      "howtowriteclearlynrulesandexercisesonenglishcomposition:  35.4413238322\n",
      "firstitalianreadings:  55.6816543177\n",
      "thewondersofthejunglenbookone:  55.9945198325\n",
      "littlebusybodiesnthelifeofcricketsantsbeesbeetlesandotherbusybodies:  26.2205418374\n",
      "delasallefifthreader:  50.6499318907\n",
      "theontarioreadersfourthbook:  52.6208616357\n",
      "mcguffeysfirsteclecticreaderrevisededition:  41.3235979852\n",
      "theontarioreadersthehighschoolreader1886:  40.8221060394\n",
      "countrywalksofanaturalistwithhischildren:  43.347407509\n",
      "aprimaryreadernoldtimestoriesfairytalesandmythsretoldbychildren:  27.8315344931\n",
      "abookofnaturalhistorynyoungfolkslibraryvolumexiv:  40.47920262\n",
      "alittlebookforalittlecook:  44.6816543177\n",
      "base_page:  78.3215498107\n",
      "theboymechanicvolume1n700thingsforboystodo:  53.3449571619\n",
      "thelittlelameprincenrewrittenforyoungreadersbymargaretwaters:  34.2524758278\n",
      "childrensclassicsindramaticformnbooktwo:  44.4371510988\n",
      "ourcommoninsectsnapopularaccountoftheinsectsofourfieldsforestsgardensandhouses:  22.6422793039\n",
      "quadrupedswhattheyareandwherefoundnabookofzoologyforboys:  36.6334282087\n",
      "theliteraryworldseventhreader:  49.0448718528\n",
      "newnationalfourthreader:  57.2627755002\n",
      "wildflowersofthefarm:  65.7410363698\n",
      "electricityforboys:  61.7927654288\n",
      "parkerssecondreadernnationalseriesofselectionsforreadingdesignedfortheyoungerclassesinschoolsacademiesc:  19.3424712285\n",
      "wildanimalsihaveknown:  62.6457982745\n",
      "modernproseandpoetryforsecondaryschools:  39.2575392114\n",
      "littlejourneytopuertoricoforintermediateanduppergrades:  34.2053084664\n",
      "thebirdwomanofthelewisandclarkexpedition:  48.3958692867\n",
      "mcguffeysfiftheclecticreader:  54.3674293213\n",
      "thecuriousbookofbirds:  62.6457982745\n",
      "amodernhistoryfromthetimeofluthertothefallofnapoleonnfortheuseofschoolsandcolleges:  22.8231946452\n",
      "thestoryofglass:  74.014987651\n",
      "littlepresent:  62.1197782938\n",
      "thestoryofthemind:  71.3002000089\n",
      "bookaboutanimals:  69.4316543177\n",
      "peepsatmanylandsnorway:  59.8319454607\n",
      "ritchiesfabulaefacilesafirstlatinreader:  36.6664456812\n",
      "mcguffeyssecondeclecticreader:  55.9945198325\n",
      "mcguffeyssixtheclecticreader:  57.9649631823\n",
      "indutch:  100.543772033\n",
      "mcguffeysthirdeclecticreader:  54.3674293213\n",
      "contesethistoriettesxc3xa0lusagedesjeunesenfantsnquicommencentxc3xa0savoirlire:  29.169132986\n",
      "stanfordachievementtested1922nadvancedexaminationformaforgrades48:  33.2495330965\n",
      "ontarioteachersmanualshouseholdscienceinruralschools:  27.6920867069\n",
      "theburgessanimalbookforchildren:  58.9364912621\n",
      "aschoolhistoryoftheunitedstates:  49.1830975241\n",
      "theontariohighschoolreader:  50.7410363698\n",
      "thehistoryofinsects:  58.5763911598\n",
      "carlandthecottongin:  63.8698594516\n",
      "thestoryofeclipses:  67.3786313814\n",
      "gemsofpoetryforboysandgirls:  60.0813652987\n",
      "birddayhowtoprepareforit:  54.9077030364\n",
      "amongthefarmyardpeople:  64.4053734202\n",
      "thebookofnaturemyths:  70.7690097838\n",
      "youngfolkshistoryofrome:  66.0133920542\n",
      "lexc3xa7onsdecosmographienxc3xa0lusagedeslycxc3xa9esetcollxc3xa8gesetdetouslesxc3xa9tablissementsdinstructionpublique:  22.3951539168\n",
      "drscudderstalesforlittlereadersabouttheheathen:  33.4046964021\n",
      "storiesfromlivy:  74.014987651\n",
      "newnationalfirstreader:  55.2574192602\n",
      "storyhourreadersxe2x80x94bookthree:  53.8131516036\n",
      "poemsteachersaskfornselectedbyreadersofnormalinstructorprimaryplans:  29.2540782419\n",
      "theelsonreadersbook5:  65.7410363698\n",
      "commercialgeographynabookforhighschoolscommercialcoursesandbusinesscolleges:  26.22920262\n",
      "animalheroes:  83.983265224\n",
      "ontarioteachersmanualshouseholdmanagement:  37.3813666036\n",
      "denmark:  100.543772033\n",
      "ahistoryofthemcguffeyreaders:  54.3674293213\n",
      "thestoryofporcelain:  74.4532203101\n",
      "thestoryofyoungabrahamlincoln:  59.4680971642\n",
      "sandersunionfourthreader:  50.7119647148\n",
      "anelementaryspanishreader:  52.7410363698\n",
      "theflagofmycountryshikxc3xa9yahbidahnaataxc3xadnnavajonewworldreaders2:  38.1908408272\n",
      "wildernessways:  72.0785033193\n",
      "steveandthesteamengine:  50.6816543177\n",
      "thebeaconsecondreader:  53.0626066986\n",
      "childsbookofwaterbirds:  68.9778189317\n",
      "thechildsworldthirdreader:  48.7119647148\n",
      "chambersselementarysciencereadersbooki:  42.9273691973\n",
      "thestoryofsugar:  74.014987651\n",
      "thelandofthelongnight:  53.0626066986\n",
      "wherewelivenahomegeography:  54.61516363\n",
      "acatechismoffamiliarthingsntheirhistoryandtheeventswhichledtotheirdiscoverynwithashortexplanationofsomeoftheprincipalnaturalphenomenafortheuseofschoolsandfamiliesenlargedandrevisededition:  12.1717873128\n",
      "gradedpoetryseventhyear:  57.2627755002\n",
      "poemsteachersaskforbooktwo:  54.61516363\n",
      "storiesabouttheinstinctofanimalstheircharactersandhabits:  29.3935346109\n",
      "chatterboxstoriesofnaturalhistory:  49.3069545243\n",
      "orthographynasoutlinedinthestatecourseofstudyforillinois:  31.2045503662\n",
      "mcguffeysfourtheclecticreader:  55.9945198325\n",
      "amanualofpronunciationnforpracticaluseinschoolsandfamilies:  28.408312936\n",
      "thelouisaalcottreaderasupplementaryreaderforthefourthyearofschool:  27.0012536629\n",
      "ahundredanecdotesofanimals:  58.4883084422\n",
      "outlinesoflessonsinbotanypartifromseedtoleaf:  37.1857424031\n",
      "onthetrailanoutdoorbookforgirls:  52.4350092653\n",
      "theinsectfolk:  85.2970389331\n",
      "afirstspanishreader:  58.5763911598\n",
      "storiesaboutanimalswithpicturestomatch:  42.9273691973\n"
     ]
    }
   ],
   "source": [
    "for book in os.listdir('local_pages'):\n",
    "    print(book + \": \", total_score_sqrt(book))"
   ]
  },
  {
   "cell_type": "markdown",
   "metadata": {},
   "source": [
    "The Scores used in the original HWK2 have now been applied to all 104 books in the Guttenberg instructional childrens books"
   ]
  }
 ],
 "metadata": {
  "kernelspec": {
   "display_name": "Python 3",
   "language": "python",
   "name": "python3"
  },
  "language_info": {
   "codemirror_mode": {
    "name": "ipython",
    "version": 3
   },
   "file_extension": ".py",
   "mimetype": "text/x-python",
   "name": "python",
   "nbconvert_exporter": "python",
   "pygments_lexer": "ipython3",
   "version": "3.6.1"
  }
 },
 "nbformat": 4,
 "nbformat_minor": 2
}

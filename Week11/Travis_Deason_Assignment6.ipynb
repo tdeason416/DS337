{
 "cells": [
  {
   "cell_type": "code",
   "execution_count": 82,
   "metadata": {
    "collapsed": true
   },
   "outputs": [],
   "source": [
    "import re\n",
    "import numpy as np\n",
    "import nltk\n",
    "from nltk.tag import UnigramTagger\n",
    "from nltk.corpus import words, stopwords\n",
    "from nltk.corpus import brown\n",
    "from nltk import word_tokenize, sent_tokenize, pos_tag\n",
    "from nltk.stem.porter import PorterStemmer\n",
    "from nltk.stem.snowball import SnowballStemmer\n",
    "from nltk.stem.lancaster import LancasterStemmer\n",
    "from bs4 import BeautifulSoup\n",
    "from collections import Counter\n",
    "import requests\n",
    "import os\n",
    "import time\n",
    "import pandas as pd"
   ]
  },
  {
   "cell_type": "markdown",
   "metadata": {},
   "source": [
    "# Homework 6\n",
    "\n",
    "## Evaluate text similarity of Amazon book search results by doing the following:\n",
    "\n",
    "### Do a book search on Amazon. Manually copy the full book title (including subtitle) of each of the top 24 books listed in the first two pages of search results. \n",
    "\n",
    "### In Python, run one of the text-similarity measures covered in this course, e.g., cosine similarity. Compare each of the book titles, pairwise, to every other one. \n",
    "\n",
    "### Which two titles are the most similar to each other? Which are the most dissimilar? Where do they rank, among the first 24 results?"
   ]
  },
  {
   "cell_type": "code",
   "execution_count": null,
   "metadata": {
    "collapsed": true
   },
   "outputs": [],
   "source": [
    "## Search == \"Potato\""
   ]
  },
  {
   "cell_type": "code",
   "execution_count": 25,
   "metadata": {},
   "outputs": [],
   "source": [
    "search_page = \"https://www.amazon.com/s?k=potato&i=stripbooks&ref=nb_sb_noss_1\"\n",
    "\n",
    "s_html = requests.get(search_page).content"
   ]
  },
  {
   "cell_type": "code",
   "execution_count": 26,
   "metadata": {
    "collapsed": true
   },
   "outputs": [],
   "source": [
    "s_soup = BeautifulSoup(s_html, 'html.parser')"
   ]
  },
  {
   "cell_type": "code",
   "execution_count": 27,
   "metadata": {},
   "outputs": [
    {
     "data": {
      "text/plain": [
       "\"Sorry, we just need to make sure you're not a robot. For best results, please make sure your browser is accepting cookies.\""
      ]
     },
     "execution_count": 27,
     "metadata": {},
     "output_type": "execute_result"
    }
   ],
   "source": [
    "s_soup.find_all(\"p\", attrs={'class' : \"a-last\"})[0].contents[0]"
   ]
  },
  {
   "cell_type": "code",
   "execution_count": null,
   "metadata": {
    "collapsed": true
   },
   "outputs": [],
   "source": [
    "## Automated search did not work, Amazon did not allow it"
   ]
  },
  {
   "cell_type": "code",
   "execution_count": 29,
   "metadata": {
    "collapsed": true
   },
   "outputs": [],
   "source": [
    "titles = [\n",
    "    \"The Guernsey Literary and Potato Peel Pie Society\",\n",
    "    \"The Enormous Potato\",\n",
    "    \"Potato Pants!\",\n",
    "    \"Sweet Potato Soul: 100 Easy Vegan Recipes for the Southern Flavors of Smoke, Sugar, Spice, and Soul\"\n",
    "    \"Jamie O'Rourke and the Big Potato\"\n",
    "    \"The Potato Reset: Weight Loss & Recipe Guide\"\n",
    "    \"Mosh Potatoes: Recipes, Anecdotes, and Mayhem from the Heavyweights of Heavy Metal\",\n",
    "    \"The Potato Hack: Weight Loss Simplified\",\n",
    "    \"The Guernsey Literary and Potato Peel Pie Society (Random House Reader's Circle Deluxe Reading Group Edition): A Novel\"\n",
    "    \"Potatoes Not Prozac: A Natural Seven-Step Plan to: Control Your Craving\",\n",
    "    \"No Small Potatoes: Junius G. Groves and His Kingdom in Kansas\",\n",
    "    \"The Sweet Potato Queens' Book of Love: A Fallen Southern Belle's Look at Love, Life, Men, Marriage, and Being Prepared\"\n",
    "    \"One Potato, Two Potato, Dead (A Farm-to-Fork Mystery)\",\n",
    "    \"Potatoes Make Me Happy: Blank Lined Journal - Funny Potato Gifts, Journals for Millenials\",\n",
    "    \"Potato: A History of the Propitious Esculent\",\n",
    "    \"The Potato Chip Puzzles: The Puzzling World of Winston Breen\",\n",
    "    \"The History and Social Influence of the Potato (Cambridge Paperback Library)\",\n",
    "    \"Smashed, Mashed, Boiled, and Baked--and Fried, Too!: A Celebration of Potatoes in 75 Irresistible Recipes\",\n",
    "    \"Black Potatoes: The Story of the Great Irish Famine, 1845-1850\",\n",
    "    \"small potatoes: mouthwatering musings of a misanthrope\",\n",
    "    \"Williams-Sonoma Collection: Potato\",\n",
    "    \"Zaydo Potato: A Muslim Superhero: Zaydo Potato: A Muslim Superhero (Zaydo Potato: (An Islamic Book Series))\",\n",
    "    \"Mr. Crum's Potato Predicament\",\n",
    "    \"The Potato Factory: The Australian Trilogy, Book 1\",\n",
    "    \"The Sweet Potato Diet: The Super Carb-Cycling Program to Lose Up to 12 Pounds in 2 Weeks\",\n",
    "    \"The Essential Mashed Potato Recipe Book: Mash Your Way to A Delicious Side Dish\",\n",
    "    \"Super Potato's Galactic Breakout\",\n",
    "    \"Four Funny Potatoes! (Hilarious Rhyming, Picture Book for Kids Ages 3-7)\",\n",
    "    \"The Potato Chip Champ: Discovering Why Kindness Counts\",\n",
    "    \"Math Potatoes: Mind-stretching Brain Food\",\n",
    "    \"One Potato, Two Potato\",\n",
    "    ]"
   ]
  },
  {
   "cell_type": "code",
   "execution_count": 259,
   "metadata": {},
   "outputs": [],
   "source": [
    "class CosSim:\n",
    "    def __init__(self, all_text):\n",
    "        corpus = set()\n",
    "        self.titles = {}\n",
    "        for text in all_text:\n",
    "            self.titles[text] = Counter()\n",
    "            for word in word_tokenize(text):\n",
    "                if re.search('^[a-zA-z]', word):\n",
    "                    corpus.add(word)\n",
    "                    self.titles[text][word] += 1\n",
    "        self.corpus = list(corpus)\n",
    "        self.booknames = list(self.titles.keys())\n",
    "        bookmtrx = []\n",
    "        for book in self.booknames:\n",
    "            bk = []\n",
    "            for word in self.corpus:\n",
    "                if word in self.titles[book]:\n",
    "                    bk.append(self.titles[book][word])\n",
    "                else:\n",
    "                    bk.append(0)\n",
    "            bookmtrx.append(bk)\n",
    "        self.bookmatrix = np.matrix(bookmtrx)\n",
    "\n",
    "    def compare(self):\n",
    "        sim = []\n",
    "        mx = self.bookmatrix\n",
    "        for r1, book1 in enumerate(self.booknames):\n",
    "            row = []\n",
    "            for r2, book2 in enumerate(self.booknames):\n",
    "                if book1 == book2:\n",
    "                    row.append(1)\n",
    "                    continue\n",
    "                row.append((np.dot(mx[r1], mx[r1].T) / (mx[r1].sum() + mx[r2].sum())).sum())\n",
    "            sim.append(row)\n",
    "        return np.matrix(sim)"
   ]
  },
  {
   "cell_type": "code",
   "execution_count": 260,
   "metadata": {},
   "outputs": [],
   "source": [
    "titles_comp = CosSim(titles)"
   ]
  },
  {
   "cell_type": "code",
   "execution_count": 268,
   "metadata": {},
   "outputs": [],
   "source": [
    "cx = titles_comp.compare()"
   ]
  },
  {
   "cell_type": "code",
   "execution_count": 269,
   "metadata": {},
   "outputs": [
    {
     "name": "stdout",
     "output_type": "stream",
     "text": [
      "[[ 1.          0.72727273  0.8         0.17391304  0.57142857  0.22222222\n",
      "   0.42105263  0.22857143  0.38095238  0.53333333  0.44444444  0.42105263\n",
      "   0.34782609  0.47058824  0.53333333  0.72727273  0.33333333  0.66666667\n",
      "   0.53333333  0.34782609  0.36363636  0.66666667  0.44444444  0.5\n",
      "   0.61538462  0.66666667]\n",
      " [ 0.27272727  1.          0.6         0.07317073  0.33333333  0.09677419\n",
      "   0.21428571  0.1         0.1875      0.3         0.23076923  0.21428571\n",
      "   0.16666667  0.25        0.3         0.5         0.15789474  0.42857143\n",
      "   0.3         0.16666667  0.17647059  0.42857143  0.23076923  0.27272727\n",
      "   0.375       0.42857143]\n",
      " [ 0.2         0.4         1.          0.05        0.25        0.06666667\n",
      "   0.15384615  0.06896552  0.13333333  0.22222222  0.16666667  0.15384615\n",
      "   0.11764706  0.18181818  0.22222222  0.4         0.11111111  0.33333333\n",
      "   0.22222222  0.11764706  0.125       0.33333333  0.16666667  0.2\n",
      "   0.28571429  0.33333333]\n",
      " [ 1.2173913   1.36585366  1.4         1.          1.27272727  0.84848485\n",
      "   1.14285714  0.86153846  1.09803922  1.24444444  1.16666667  1.14285714\n",
      "   1.05660377  1.19148936  1.24444444  1.36585366  1.03703704  1.33333333\n",
      "   1.24444444  1.05660377  1.07692308  1.33333333  1.16666667  1.2173913\n",
      "   1.30232558  1.33333333]\n",
      " [ 0.42857143  0.66666667  0.75        0.13636364  1.          0.17647059\n",
      "   0.35294118  0.18181818  0.31578947  0.46153846  0.375       0.35294118\n",
      "   0.28571429  0.4         0.46153846  0.66666667  0.27272727  0.6\n",
      "   0.46153846  0.28571429  0.3         0.6         0.375       0.42857143\n",
      "   0.54545455  0.6       ]\n",
      " [ 0.83333333  0.96774194  1.          0.45454545  0.88235294  1.\n",
      "   0.76923077  0.54545455  0.73170732  0.85714286  0.78947368  0.76923077\n",
      "   0.69767442  0.81081081  0.85714286  0.96774194  0.68181818  0.9375\n",
      "   0.85714286  0.69767442  0.71428571  0.9375      0.78947368  0.83333333\n",
      "   0.90909091  0.9375    ]\n",
      " [ 0.57894737  0.78571429  0.84615385  0.2244898   0.64705882  0.28205128\n",
      "   1.          0.28947368  0.45833333  0.61111111  0.52380952  0.5\n",
      "   0.42307692  0.55        0.61111111  0.78571429  0.40740741  0.73333333\n",
      "   0.61111111  0.42307692  0.44        0.73333333  0.52380952  0.57894737\n",
      "   0.6875      0.73333333]\n",
      " [ 1.05714286  1.23333333  1.27586207  0.56923077  1.12121212  0.67272727\n",
      "   0.97368421  1.          0.925       1.08823529  1.          0.97368421\n",
      "   0.88095238  1.02777778  1.08823529  1.23333333  0.86046512  1.19354839\n",
      "   1.08823529  0.88095238  0.90243902  1.19354839  1.          1.05714286\n",
      "   1.15625     1.19354839]\n",
      " [ 0.61904762  0.8125      0.86666667  0.25490196  0.68421053  0.31707317\n",
      "   0.54166667  0.325       1.          0.65        0.56521739  0.54166667\n",
      "   0.46428571  0.59090909  0.65        0.8125      0.44827586  0.76470588\n",
      "   0.65        0.46428571  0.48148148  0.76470588  0.56521739  0.61904762\n",
      "   0.72222222  0.76470588]\n",
      " [ 0.46666667  0.7         0.77777778  0.15555556  0.53846154  0.2\n",
      "   0.38888889  0.20588235  0.35        1.          0.41176471  0.38888889\n",
      "   0.31818182  0.4375      0.5         0.7         0.30434783  0.63636364\n",
      "   0.5         0.31818182  0.33333333  0.63636364  0.41176471  0.46666667\n",
      "   0.58333333  0.63636364]\n",
      " [ 0.66666667  0.92307692  1.          0.25        0.75        0.31578947\n",
      "   0.57142857  0.32432432  0.52173913  0.70588235  1.          0.57142857\n",
      "   0.48        0.63157895  0.70588235  0.92307692  0.46153846  0.85714286\n",
      "   0.70588235  0.48        0.5         0.85714286  0.6         0.66666667\n",
      "   0.8         0.85714286]\n",
      " [ 0.57894737  0.78571429  0.84615385  0.2244898   0.64705882  0.28205128\n",
      "   0.5         0.28947368  0.45833333  0.61111111  0.52380952  1.\n",
      "   0.42307692  0.55        0.61111111  0.78571429  0.40740741  0.73333333\n",
      "   0.61111111  0.42307692  0.44        0.73333333  0.52380952  0.57894737\n",
      "   0.6875      0.73333333]\n",
      " [ 0.73913043  0.94444444  1.          0.32075472  0.80952381  0.39534884\n",
      "   0.65384615  0.4047619   0.60714286  0.77272727  0.68        0.65384615\n",
      "   1.          0.70833333  0.77272727  0.94444444  0.5483871   0.89473684\n",
      "   0.77272727  0.56666667  0.5862069   0.89473684  0.68        0.73913043\n",
      "   0.85        0.89473684]\n",
      " [ 0.52941176  0.75        0.81818182  0.19148936  0.6         0.24324324\n",
      "   0.45        0.25        0.40909091  0.5625      0.47368421  0.45        0.375\n",
      "   1.          0.5625      0.75        0.36        0.69230769  0.5625\n",
      "   0.375       0.39130435  0.69230769  0.47368421  0.52941176  0.64285714\n",
      "   0.69230769]\n",
      " [ 0.46666667  0.7         0.77777778  0.15555556  0.53846154  0.2\n",
      "   0.38888889  0.20588235  0.35        0.5         0.41176471  0.38888889\n",
      "   0.31818182  0.4375      1.          0.7         0.30434783  0.63636364\n",
      "   0.5         0.31818182  0.33333333  0.63636364  0.41176471  0.46666667\n",
      "   0.58333333  0.63636364]\n",
      " [ 0.27272727  0.5         0.6         0.07317073  0.33333333  0.09677419\n",
      "   0.21428571  0.1         0.1875      0.3         0.23076923  0.21428571\n",
      "   0.16666667  0.25        0.3         1.          0.15789474  0.42857143\n",
      "   0.3         0.16666667  0.17647059  0.42857143  0.23076923  0.27272727\n",
      "   0.375       0.42857143]\n",
      " [ 1.41666667  1.78947368  1.88888889  0.62962963  1.54545455  0.77272727\n",
      "   1.25925926  0.79069767  1.17241379  1.47826087  1.30769231  1.25925926\n",
      "   1.09677419  1.36        1.47826087  1.78947368  1.          1.7\n",
      "   1.47826087  1.09677419  1.13333333  1.7         1.30769231  1.41666667\n",
      "   1.61904762  1.7       ]\n",
      " [ 0.33333333  0.57142857  0.66666667  0.0952381   0.4         0.125\n",
      "   0.26666667  0.12903226  0.23529412  0.36363636  0.28571429  0.26666667\n",
      "   0.21052632  0.30769231  0.36363636  0.57142857  0.2         1.\n",
      "   0.36363636  0.21052632  0.22222222  0.5         0.28571429  0.33333333\n",
      "   0.44444444  0.5       ]\n",
      " [ 0.6         0.9         1.          0.2         0.69230769  0.25714286\n",
      "   0.5         0.26470588  0.45        0.64285714  0.52941176  0.5\n",
      "   0.40909091  0.5625      0.64285714  0.9         0.39130435  0.81818182\n",
      "   1.          0.40909091  0.42857143  0.81818182  0.52941176  0.6         0.75\n",
      "   0.81818182]\n",
      " [ 0.82608696  1.05555556  1.11764706  0.35849057  0.9047619   0.44186047\n",
      "   0.73076923  0.45238095  0.67857143  0.86363636  0.76        0.73076923\n",
      "   0.63333333  0.79166667  0.86363636  1.05555556  0.61290323  1.\n",
      "   0.86363636  1.          0.65517241  1.          0.76        0.82608696\n",
      "   0.95        1.        ]\n",
      " [ 0.63636364  0.82352941  0.875       0.26923077  0.7         0.33333333\n",
      "   0.56        0.34146341  0.51851852  0.66666667  0.58333333  0.56\n",
      "   0.48275862  0.60869565  0.66666667  0.82352941  0.46666667  0.77777778\n",
      "   0.66666667  0.48275862  1.          0.77777778  0.58333333  0.63636364\n",
      "   0.73684211  0.77777778]\n",
      " [ 0.33333333  0.57142857  0.66666667  0.0952381   0.4         0.125\n",
      "   0.26666667  0.12903226  0.23529412  0.36363636  0.28571429  0.26666667\n",
      "   0.21052632  0.30769231  0.36363636  0.57142857  0.2         0.5\n",
      "   0.36363636  0.21052632  0.22222222  1.          0.28571429  0.33333333\n",
      "   0.44444444  0.5       ]\n",
      " [ 0.55555556  0.76923077  0.83333333  0.20833333  0.625       0.26315789\n",
      "   0.47619048  0.27027027  0.43478261  0.58823529  0.5         0.47619048\n",
      "   0.4         0.52631579  0.58823529  0.76923077  0.38461538  0.71428571\n",
      "   0.58823529  0.4         0.41666667  0.71428571  1.          0.55555556\n",
      "   0.66666667  0.71428571]\n",
      " [ 0.5         0.72727273  0.8         0.17391304  0.57142857  0.22222222\n",
      "   0.42105263  0.22857143  0.38095238  0.53333333  0.44444444  0.42105263\n",
      "   0.34782609  0.47058824  0.53333333  0.72727273  0.33333333  0.66666667\n",
      "   0.53333333  0.34782609  0.36363636  0.66666667  0.44444444  1.\n",
      "   0.61538462  0.66666667]\n",
      " [ 0.38461538  0.625       0.71428571  0.11627907  0.45454545  0.15151515\n",
      "   0.3125      0.15625     0.27777778  0.41666667  0.33333333  0.3125      0.25\n",
      "   0.35714286  0.41666667  0.625       0.23809524  0.55555556  0.41666667\n",
      "   0.25        0.26315789  0.55555556  0.33333333  0.38461538  1.\n",
      "   0.55555556]\n",
      " [ 0.5         0.85714286  1.          0.14285714  0.6         0.1875      0.4\n",
      "   0.19354839  0.35294118  0.54545455  0.42857143  0.4         0.31578947\n",
      "   0.46153846  0.54545455  0.85714286  0.3         0.75        0.54545455\n",
      "   0.31578947  0.33333333  0.75        0.42857143  0.5         0.66666667\n",
      "   1.        ]]\n"
     ]
    }
   ],
   "source": [
    "print(cx)"
   ]
  },
  {
   "cell_type": "code",
   "execution_count": 270,
   "metadata": {},
   "outputs": [
    {
     "name": "stdout",
     "output_type": "stream",
     "text": [
      "( 16 , 2 )\n"
     ]
    }
   ],
   "source": [
    "row = int(cx.argmax() / cx.shape[0])\n",
    "col = cx.argmax() % cx.shape[0]\n",
    "print(\"(\", row, \",\", col, \")\")"
   ]
  },
  {
   "cell_type": "code",
   "execution_count": 271,
   "metadata": {},
   "outputs": [
    {
     "name": "stdout",
     "output_type": "stream",
     "text": [
      "Zaydo Potato: A Muslim Superhero: Zaydo Potato: A Muslim Superhero (Zaydo Potato: (An Islamic Book Series))\n",
      "AND\n",
      "Potato Pants!\n"
     ]
    }
   ],
   "source": [
    "print(titles_comp.booknames[16])\n",
    "print(\"AND\")\n",
    "print(titles_comp.booknames[2])"
   ]
  },
  {
   "cell_type": "code",
   "execution_count": 273,
   "metadata": {
    "collapsed": true
   },
   "outputs": [],
   "source": [
    "## The most commonly related books appear to be the shortest book, and the one that mentions one of the words in tnhe shortest book 3 times"
   ]
  },
  {
   "cell_type": "markdown",
   "metadata": {},
   "source": [
    "## Now evaluate using a major search engine.\n",
    "\n",
    "### Enter one of the book titles from question 1a into Google, Bing, or Yahoo!. Copy the capsule of the first organic result and the 20th organic result. Take web results only (i.e., not video results), and skip sponsored results. \n",
    "\n",
    "### Run the same text similarity calculation that you used for question 1b on each of these capsules in comparison to the original query (book title). \n",
    "\n",
    "### Which one has the highest similarity measure? \n",
    "\n",
    "### Submit all of your inputs and outputs and your code for this assignment, along with a brief written explanation of your findings. "
   ]
  },
  {
   "cell_type": "code",
   "execution_count": 290,
   "metadata": {},
   "outputs": [
    {
     "data": {
      "text/plain": [
       "0.89189189189189189"
      ]
     },
     "execution_count": 290,
     "metadata": {},
     "output_type": "execute_result"
    }
   ],
   "source": [
    "search_title = \"The Guernsey Literary and Potato Peel Pie Society\"\n",
    "\n",
    "first_result = '''The Guernsey Literary and Potato Peel Pie Society - Wikipedia\n",
    "https://en.wikipedia.org/wiki/The_Guernsey_Literary_and_Potato_Peel_Pie_Society\n",
    "The Guernsey Literary and Potato Peel Pie Society is a historical novel by Mary Ann Shaffer and Annie Barrows that was published in 2008. The book is set in ..'''\n",
    "\n",
    "twentieth_result = '''The Guernsey Literary and Potato Peel Pie Society on iTunes\n",
    "https://itunes.apple.com/...guernsey-literary-and-potato-peel-pie-society/id136996714...\n",
    " Rating: 4.5 - ‎46 votes\n",
    "Watch trailers, read customer and critic reviews and buy The Guernsey Literary and Potato Peel Pie Society directed by Mike Newell for £9.99.'''\n",
    "\n",
    "all_results = [first_result, twentieth_result]\n",
    "\n",
    "page_comp = CosSim(all_results)\n",
    "\n",
    "page_comp\n",
    "\n",
    "results = page_comp.compare()\n",
    "\n",
    "results[results < 1].max()"
   ]
  },
  {
   "cell_type": "code",
   "execution_count": 285,
   "metadata": {},
   "outputs": [
    {
     "data": {
      "text/plain": [
       "0.78787878787878785"
      ]
     },
     "execution_count": 285,
     "metadata": {},
     "output_type": "execute_result"
    }
   ],
   "source": [
    "search_title = \"The Enormous Potato\"\n",
    "\n",
    "first_result = '''The Enormous Potato: Aubrey Davis, Dusan Petricic: 0625816466934 ...\n",
    "https://www.amazon.com/Enormous-Potato-Aubrey-Davis/dp/1550746693\n",
    "The Enormous Potato [Aubrey Davis, Dusan Petricic] on Amazon.com. *FREE* shipping on qualifying offers. Folk tales give us hope. They show us that we can ...'''\n",
    "\n",
    "twentieth_result = '''The Enormous Potato - Growing Minds\n",
    "https://growing-minds.org/childrens-literature/the-enormous-potato/\n",
    "One farmer can't pull this potato out of the ground. But can the farmer, his wive, daughter, dog, cat, and mouse get this spud uncovered?\n",
    "'''\n",
    "\n",
    "all_results = [first_result, twentieth_result]\n",
    "\n",
    "page_comp = CosSim(all_results)\n",
    "\n",
    "page_comp\n",
    "\n",
    "results = page_comp.compare()\n",
    "\n",
    "results[results < 1].max()"
   ]
  },
  {
   "cell_type": "code",
   "execution_count": 285,
   "metadata": {},
   "outputs": [
    {
     "data": {
      "text/plain": [
       "0.78787878787878785"
      ]
     },
     "execution_count": 285,
     "metadata": {},
     "output_type": "execute_result"
    }
   ],
   "source": [
    "search_title = \"The Enormous Potato\"\n",
    "\n",
    "first_result = '''The Enormous Potato: Aubrey Davis, Dusan Petricic: 0625816466934 ...\n",
    "https://www.amazon.com/Enormous-Potato-Aubrey-Davis/dp/1550746693\n",
    "The Enormous Potato [Aubrey Davis, Dusan Petricic] on Amazon.com. *FREE* shipping on qualifying offers. Folk tales give us hope. They show us that we can ...'''\n",
    "\n",
    "twentieth_result = '''The Enormous Potato - Growing Minds\n",
    "https://growing-minds.org/childrens-literature/the-enormous-potato/\n",
    "One farmer can't pull this potato out of the ground. But can the farmer, his wive, daughter, dog, cat, and mouse get this spud uncovered?\n",
    "'''\n",
    "\n",
    "all_results = [first_result, twentieth_result]\n",
    "\n",
    "page_comp = CosSim(all_results)\n",
    "\n",
    "page_comp\n",
    "\n",
    "results = page_comp.compare()\n",
    "\n",
    "results[results < 1].max()"
   ]
  },
  {
   "cell_type": "code",
   "execution_count": 288,
   "metadata": {},
   "outputs": [
    {
     "data": {
      "text/plain": [
       "0.88607594936708856"
      ]
     },
     "execution_count": 288,
     "metadata": {},
     "output_type": "execute_result"
    }
   ],
   "source": [
    "search_title = \"Jamie O'Rourke and the Big Potato\"\n",
    "\n",
    "first_result = '''Jamie O'Rourke and the Big Potato: An Irish Folktale: Tomie dePaola ...\n",
    "https://www.amazon.com/Jamie-ORourke-Big-Potato-Folktale/dp/0448450909\n",
    "Jamie O'Rourke and the Big Potato: An Irish Folktale [Tomie dePaola] on Amazon.com. *FREE* shipping on qualifying offers. Jamie O?Rourke is the laziest ma'''\n",
    "\n",
    "twentieth_result = '''Jamie O'Rourke and the Big Potato Book Review and Ratings by Kids https://www.dogobooks.com/jamie-orourke-and-the-big-potato/book.../039922257X\n",
    "Feb 20, 1992 - After his wife is injured, Jamie O'Rourke, the laziest man in Ireland, must find a way to feed his family and luckily bumps into a leprechaun with'''\n",
    "\n",
    "all_results = [first_result, twentieth_result]\n",
    "\n",
    "page_comp = CosSim(all_results)\n",
    "\n",
    "page_comp\n",
    "\n",
    "results = page_comp.compare()\n",
    "\n",
    "results[results < 1].max()"
   ]
  },
  {
   "cell_type": "code",
   "execution_count": 287,
   "metadata": {},
   "outputs": [
    {
     "data": {
      "text/plain": [
       "0.65573770491803274"
      ]
     },
     "execution_count": 287,
     "metadata": {},
     "output_type": "execute_result"
    }
   ],
   "source": [
    "search_title = \"Sweet Potato Soul: 100 Easy Vegan Recipes for the Southern Flavors of Smoke, Sugar, Spice, and Soul\"\n",
    "\n",
    "first_result = '''Sweet Potato Soul: 100 Easy Vegan Recipes for the Southern Flavors ...\n",
    "https://www.amazon.com/Sweet-Potato-Soul-Recipes-Southern/dp/0451498895\n",
    "Sweet Potato Soul: 100 Easy Vegan Recipes for the Southern Flavors of Smoke, Sugar, Spice, and Soul [Jenne Claiborne] on Amazon.com. *FREE* shipping on'''\n",
    "\n",
    "twentieth_result = '''Sweet Potato Soul - Claiborne, Jenne - 9780451498892 | HPB\n",
    "https://www.hpb.com/products/sweet-potato-soul-9780451498892\n",
    "Sweet Potato Soul: 100 Easy Vegan Recipes For The Southern Flavors Of Smoke, Sugar, Spice, And Soul. by Claiborne, Jenne'''\n",
    "\n",
    "all_results = [first_result, twentieth_result]\n",
    "\n",
    "page_comp = CosSim(all_results)\n",
    "\n",
    "page_comp\n",
    "\n",
    "results = page_comp.compare()\n",
    "\n",
    "results[results < 1].max()"
   ]
  },
  {
   "cell_type": "code",
   "execution_count": 289,
   "metadata": {},
   "outputs": [
    {
     "data": {
      "text/plain": [
       "0.82191780821917804"
      ]
     },
     "execution_count": 289,
     "metadata": {},
     "output_type": "execute_result"
    }
   ],
   "source": [
    "search_title = \"The Potato Reset: Weight Loss & Recipe Guide\"\n",
    "\n",
    "first_result = '''The Potato Reset: Weight Loss & Recipe Guide: Jeannine L Elder ...\n",
    "https://www.amazon.com/Potato-Reset-Weight-Recipe-Guide/dp/198684076X\n",
    "The Potato Reset: Weight Loss & Recipe Guide [Jeannine L Elder] on Amazon.com. *FREE* shipping on qualifying offers. Reset your tastebuds, lose weight ..'''\n",
    "\n",
    "twentieth_result = '''The Potato Reset: Weight Loss & Recipe Guide: Jeannine L Elder ...\n",
    "https://www.amazon.ca/Potato-Reset-Weight-Recipe-Guide/dp/198684076X\n",
    "If you've been enticed by Penn Jillette's story of how he lost over 100 lbs starting with a potato-only diet but the idea of eating nothing but baked/boiled potatoes ...'''\n",
    "\n",
    "all_results = [first_result, twentieth_result]\n",
    "\n",
    "page_comp = CosSim(all_results)\n",
    "\n",
    "page_comp\n",
    "\n",
    "results = page_comp.compare()\n",
    "\n",
    "results[results < 1].max()"
   ]
  },
  {
   "cell_type": "code",
   "execution_count": 291,
   "metadata": {
    "collapsed": true
   },
   "outputs": [],
   "source": [
    "##The Guernsey Literary and Potato Peel Pie Society presented the highest coorealation between its 1st and 20th docu"
   ]
  }
 ],
 "metadata": {
  "kernelspec": {
   "display_name": "Python 3",
   "language": "python",
   "name": "python3"
  },
  "language_info": {
   "codemirror_mode": {
    "name": "ipython",
    "version": 3
   },
   "file_extension": ".py",
   "mimetype": "text/x-python",
   "name": "python",
   "nbconvert_exporter": "python",
   "pygments_lexer": "ipython3",
   "version": "3.6.1"
  }
 },
 "nbformat": 4,
 "nbformat_minor": 2
}

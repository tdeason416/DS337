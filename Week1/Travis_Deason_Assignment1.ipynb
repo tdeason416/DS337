{
 "cells": [
  {
   "cell_type": "markdown",
   "metadata": {},
   "source": [
    "# Homework 1"
   ]
  },
  {
   "attachments": {},
   "cell_type": "markdown",
   "metadata": {},
   "source": [
    "## 1. Install Python (if you don’t have it already), and install NLTK."
   ]
  },
  {
   "cell_type": "code",
   "execution_count": 55,
   "metadata": {},
   "outputs": [],
   "source": [
    "from nltk.book import *\n",
    "import re"
   ]
  },
  {
   "attachments": {},
   "cell_type": "markdown",
   "metadata": {},
   "source": [
    "## 2. Follow the instructions in chapter 1 of Bird-Klein for implementing a “lexical diversity” scoring routine."
   ]
  },
  {
   "attachments": {},
   "cell_type": "markdown",
   "metadata": {},
   "source": [
    "## 3.\tGo to http://www.gutenberg.org/wiki/Children%27s_Instructional_Books_(Bookshelf), and obtain three texts (of different grade levels) from the “Graded Readers” section. Report the lexical diversity score of each. Explain whether the result was surprising."
   ]
  },
  {
   "cell_type": "code",
   "execution_count": 50,
   "metadata": {
    "collapsed": true
   },
   "outputs": [],
   "source": [
    "start_line = '\\*\\*\\* START OF THIS PROJECT GUTENBERG EBOOK.*\\*\\*\\*'\n",
    "end_line = '\\*\\*\\* END OF THIS PROJECT GUTENBERG EBOOK.*\\*\\*\\*'"
   ]
  },
  {
   "cell_type": "code",
   "execution_count": 56,
   "metadata": {
    "collapsed": true
   },
   "outputs": [],
   "source": [
    "def lexical_diversity(text):\n",
    "    if text is str:\n",
    "        text = split_text(text)\n",
    "    return 100 * len(set(text)) / len(text)\n",
    "\n",
    "def vocab_score(text):\n",
    "    if text is str:\n",
    "        text = split_text(text)\n",
    "    return len(set(text))\n",
    "\n",
    "def split_text(text):\n",
    "    return re.split(\"[^a-z']+\")\n",
    "\n",
    "def remove_meta(text):\n",
    "    return re.split(end_line, re.split(start_line, text)[1])[0]"
   ]
  },
  {
   "cell_type": "code",
   "execution_count": 44,
   "metadata": {
    "collapsed": true
   },
   "outputs": [],
   "source": [
    "grade2 = open('data/beacon_second_reader.txt').read()\n",
    "grade4 = open('data/mcguffys_fourth_reader.txt').read()\n",
    "grade5 = open('data/mcguffys_fifth_reader.txt').read()\n",
    "gradehs = open('data/ontario_highschool_reader.txt').read()"
   ]
  },
  {
   "cell_type": "code",
   "execution_count": 57,
   "metadata": {},
   "outputs": [
    {
     "data": {
      "text/plain": [
       "0.06811473548777719"
      ]
     },
     "execution_count": 57,
     "metadata": {},
     "output_type": "execute_result"
    }
   ],
   "source": [
    "print lexical_diversity(remove_meta(grade2))"
   ]
  },
  {
   "cell_type": "code",
   "execution_count": 62,
   "metadata": {},
   "outputs": [
    {
     "data": {
      "text/plain": [
       "0.0230104933394325"
      ]
     },
     "execution_count": 62,
     "metadata": {},
     "output_type": "execute_result"
    }
   ],
   "source": [
    "print lexical_diversity(remove_meta(grade4))"
   ]
  },
  {
   "cell_type": "code",
   "execution_count": 63,
   "metadata": {},
   "outputs": [
    {
     "data": {
      "text/plain": [
       "0.010439217655202584"
      ]
     },
     "execution_count": 63,
     "metadata": {},
     "output_type": "execute_result"
    }
   ],
   "source": [
    "print lexical_diversity(remove_meta(grade5))"
   ]
  },
  {
   "cell_type": "code",
   "execution_count": 64,
   "metadata": {},
   "outputs": [
    {
     "data": {
      "text/plain": [
       "0.026381771234729214"
      ]
     },
     "execution_count": 64,
     "metadata": {},
     "output_type": "execute_result"
    }
   ],
   "source": [
    "print lexical_diversity(remove_meta(gradehs))"
   ]
  },
  {
   "attachments": {},
   "cell_type": "markdown",
   "metadata": {},
   "source": [
    "###\tThe following is the lexical diversity scores for each of the books I checked.\n",
    "* The Bacon Second Reader\n",
    "\n",
    ">* \tlexical diversity = .06811 % \n",
    "\n",
    "*\tMcguffy’s Forth Eclectic Reader\n",
    "\n",
    ">*\tlexical diversity = .02301 %\n",
    "\n",
    "*\tMcguffy’s Fifth Eclectic Reader\n",
    "\n",
    ">*\tlexical diversity = .01043\n",
    "\n",
    "*\tThe Ontario High School Reader\n",
    "\n",
    ">*\tlexical diversity = .02638\n",
    "\n",
    "*\tThe surprising thig here is that the book with the highest lexical diversity is the second grade reader (or the least advanced book).  This may be because the least advanced book is simply shorter then the other books, and therefore has a less significant lexical diversity.  In fact, in the books listed, each subsequent grade, with the exception of high school, has a lower lexical diversity then the grades below it."
   ]
  },
  {
   "cell_type": "code",
   "execution_count": 58,
   "metadata": {},
   "outputs": [
    {
     "data": {
      "text/plain": [
       "81"
      ]
     },
     "execution_count": 58,
     "metadata": {},
     "output_type": "execute_result"
    }
   ],
   "source": [
    "print vocab_score(remove_meta(grade2))"
   ]
  },
  {
   "cell_type": "code",
   "execution_count": 35,
   "metadata": {},
   "outputs": [
    {
     "data": {
      "text/plain": [
       "87"
      ]
     },
     "execution_count": 35,
     "metadata": {},
     "output_type": "execute_result"
    }
   ],
   "source": [
    "print vocab_score(remove_meta(grade4))"
   ]
  },
  {
   "cell_type": "code",
   "execution_count": 59,
   "metadata": {},
   "outputs": [
    {
     "data": {
      "text/plain": [
       "84"
      ]
     },
     "execution_count": 59,
     "metadata": {},
     "output_type": "execute_result"
    }
   ],
   "source": [
    "print vocab_score(remove_meta(grade5))"
   ]
  },
  {
   "cell_type": "code",
   "execution_count": 65,
   "metadata": {},
   "outputs": [
    {
     "data": {
      "text/plain": [
       "127"
      ]
     },
     "execution_count": 65,
     "metadata": {},
     "output_type": "execute_result"
    }
   ],
   "source": [
    "print vocab_score(remove_meta(gradehs))"
   ]
  },
  {
   "attachments": {},
   "cell_type": "markdown",
   "metadata": {},
   "source": [
    "## 4.\tAlso compare the vocabulary size of the same three texts. Explain whether the result was surprising."
   ]
  },
  {
   "attachments": {},
   "cell_type": "markdown",
   "metadata": {},
   "source": [
    "Vocabulary counts for all books\n",
    "* The Bacon Second Reader\n",
    ">* Unique word count = 81 \n",
    "* Mcguffy’s Forth Eclectic Reader\n",
    ">* Unique word count = 87\n",
    "* Mcguffy’s Fifth Eclectic Reader\n",
    ">* Unique word count = 84\n",
    "* The Ontario High School Reader\n",
    ">* Unique word count = 127\n",
    "\n",
    "-\tIn the case of vocabulary counts, the result is more in line with expectations.   This shows that higher reading level books have a larger vocabulary.  The only exception here is the fourth grade to fifth grade transition; where fifth grade has slightly less overall unique words then fourth."
   ]
  },
  {
   "attachments": {},
   "cell_type": "markdown",
   "metadata": {},
   "source": [
    "## 5.\tWrite a paragraph arguing whether vocabulary size and lexical diversity in combination could be a better measure of text difficulty (or reading level) than either measure is by itself."
   ]
  },
  {
   "attachments": {},
   "cell_type": "markdown",
   "metadata": {},
   "source": [
    "-\tBased on the data collected in this assignment, Vocabulary size seems to be a better measure of reading level then lexical diversity, but even with this measure, there is still an example that diverges from the trend.  Perhaps the best method of measuring text reading difficulty would not be to measure the overall word count or lexical diversity, but to measure the frequency of word appearance in relation to how often the words appear in all English language.  It also seems probable that it is not easy to measure reading difficulty by measuring a single variable.  It would have to be placed within a larger context.  For example, if one book has a very large vocabulary of commonly used words; while another book contains more ecelectic language, but contains overall less vocabulary, the later book would likely be the more difficult one to read."
   ]
  }
 ],
 "metadata": {
  "kernelspec": {
   "display_name": "Python 3",
   "language": "python",
   "name": "python3"
  },
  "language_info": {
   "codemirror_mode": {
    "name": "ipython",
    "version": 3
   },
   "file_extension": ".py",
   "mimetype": "text/x-python",
   "name": "python",
   "nbconvert_exporter": "python",
   "pygments_lexer": "ipython3",
   "version": "3.6.1"
  }
 },
 "nbformat": 4,
 "nbformat_minor": 2
}
